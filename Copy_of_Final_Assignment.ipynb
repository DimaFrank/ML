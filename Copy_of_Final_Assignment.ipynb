{
  "nbformat": 4,
  "nbformat_minor": 0,
  "metadata": {
    "colab": {
      "provenance": [],
      "machine_shape": "hm",
      "include_colab_link": true
    },
    "kernelspec": {
      "name": "python3",
      "display_name": "Python 3"
    },
    "language_info": {
      "name": "python"
    },
    "gpuClass": "premium",
    "accelerator": "GPU"
  },
  "cells": [
    {
      "cell_type": "markdown",
      "metadata": {
        "id": "view-in-github",
        "colab_type": "text"
      },
      "source": [
        "<a href=\"https://colab.research.google.com/github/DimaFrank/ML/blob/main/Copy_of_Final_Assignment.ipynb\" target=\"_parent\"><img src=\"https://colab.research.google.com/assets/colab-badge.svg\" alt=\"Open In Colab\"/></a>"
      ]
    },
    {
      "cell_type": "code",
      "source": [
        "# !pip install tensorflow\n",
        "# !pip install nltk"
      ],
      "metadata": {
        "id": "KHNWJgIeWfyn"
      },
      "execution_count": null,
      "outputs": []
    },
    {
      "cell_type": "code",
      "source": [
        "import zipfile\n",
        "import tensorflow as tf\n",
        "import numpy as np\n",
        "import matplotlib.pyplot as plt\n",
        "from collections import Counter\n",
        "import nltk\n",
        "from nltk.corpus import words\n",
        "\n",
        "from google.colab import drive"
      ],
      "metadata": {
        "id": "VBIOENB2nY1l"
      },
      "execution_count": null,
      "outputs": []
    },
    {
      "cell_type": "code",
      "source": [
        "drive.mount('/content/drive/', force_remount=True)"
      ],
      "metadata": {
        "colab": {
          "base_uri": "https://localhost:8080/"
        },
        "id": "dck7iFmKWO-r",
        "outputId": "5561eab1-3805-4c61-c7c8-fb749c06f8cb"
      },
      "execution_count": null,
      "outputs": [
        {
          "output_type": "stream",
          "name": "stdout",
          "text": [
            "Mounted at /content/drive/\n"
          ]
        }
      ]
    },
    {
      "cell_type": "code",
      "source": [
        "!ls /content/drive/MyDrive/ColabDatasets/"
      ],
      "metadata": {
        "colab": {
          "base_uri": "https://localhost:8080/"
        },
        "id": "66_WsYPRaJCH",
        "outputId": "b86e31a0-69d8-41bc-8486-f7e15b60f1b1"
      },
      "execution_count": null,
      "outputs": [
        {
          "output_type": "stream",
          "name": "stdout",
          "text": [
            "reviews_data.txt\n"
          ]
        }
      ]
    },
    {
      "cell_type": "code",
      "source": [
        "file_path='/content/drive/MyDrive/ColabDatasets/reviews_data.txt'\n",
        "\n",
        "# Read the reviews\n",
        "reviews = []\n",
        "with open(file_path, 'r', encoding='utf-8') as f:\n",
        "    reviews = f.readlines()\n",
        "\n",
        "# Remove newline characters\n",
        "reviews = [review.strip() for review in reviews]"
      ],
      "metadata": {
        "id": "5ssFjCq1myyC"
      },
      "execution_count": null,
      "outputs": []
    },
    {
      "cell_type": "code",
      "source": [
        "reviews=reviews[:100000]\n",
        "reviews[0]"
      ],
      "metadata": {
        "id": "dBKhZx0dgqAI",
        "colab": {
          "base_uri": "https://localhost:8080/",
          "height": 157
        },
        "outputId": "f72f7286-ce14-4723-f33d-773649b3a534"
      },
      "execution_count": null,
      "outputs": [
        {
          "output_type": "execute_result",
          "data": {
            "text/plain": [
              "'oct nice trendy hotel location not too bad stayed in this hotel for one night as this is fairly new place some of the taxi drivers did not know where it was and or did not want to drive there once have eventually arrived at the hotel was very pleasantly surprised with the decor of the lobby ground floor area it was very stylish and modern found the reception staff geeting me with aloha bit out of place but guess they are briefed to say that to keep up the coroporate image as have starwood preferred guest member was given small gift upon check in it was only couple of fridge magnets in gift box but nevertheless nice gesture my room was nice and roomy there are tea and coffee facilities in each room and you get two complimentary bottles of water plus some toiletries by bliss the location is not great it is at the last metro stop and you then need to take taxi but if you are not planning on going to see the historic sites in beijing then you will be ok chose to have some breakfast in the hotel which was really tasty and there was good selection of dishes there are couple of computers to use in the communal area as well as pool table there is also small swimming pool and gym area would definitely stay in this hotel again but only if did not plan to travel to central beijing as it can take long time the location is ok if you plan to do lot of shopping as there is big shopping centre just few minutes away from the hotel and there are plenty of eating options around including restaurants that serve dog meat'"
            ],
            "application/vnd.google.colaboratory.intrinsic+json": {
              "type": "string"
            }
          },
          "metadata": {},
          "execution_count": 5
        }
      ]
    },
    {
      "cell_type": "code",
      "source": [
        "# Remove newline characters\n",
        "reviews = [review.strip() for review in reviews]\n",
        "\n",
        "tokenizer = tf.keras.preprocessing.text.Tokenizer()\n",
        "tokenizer.fit_on_texts(reviews)\n",
        "\n",
        "# Vocabulary size\n",
        "vocab_size = len(tokenizer.word_index) + 1\n",
        "\n",
        "# Tokenize the reviews\n",
        "sequences = tokenizer.texts_to_sequences(reviews)\n",
        "\n",
        "\n",
        "\n",
        "\n",
        "# Download the list of English words\n",
        "nltk.download('words')\n",
        "english_vocab = set(words.words())\n",
        "\n",
        "def is_english_word(word):\n",
        "    if isinstance(word, str):\n",
        "        return word.lower() in english_vocab\n",
        "    else:\n",
        "        return False\n",
        "\n",
        "words_to_exclude=['in', 'the', 'at', 'of', 'on', 'out', 'to', 'till', 'than', 'up', 'with', 'as', 'for', 'is', 'and', 'was']\n",
        "\n",
        "# Create counter to count word frequencies\n",
        "word_freq = Counter()\n",
        "for sequence in sequences:\n",
        "    word_freq.update(sequence)\n",
        "\n",
        "# Determine number of words to remove\n",
        "num_to_remove = int(0.2 * len(word_freq))\n",
        "\n",
        "# Determine most frequent and least frequent words to remove\n",
        "most_freq_words = set([w for w, _ in word_freq.most_common(num_to_remove)])\n",
        "least_freq_words = set([w for w, _ in word_freq.most_common()[:-num_to_remove-1:-1]])\n",
        "\n",
        "# Filter out most frequent and least frequent words\n",
        "sequences_filtered = []\n",
        "for sequence in sequences:\n",
        "    sequence_filtered = []\n",
        "    for word in sequence:\n",
        "        if word not in most_freq_words and word not in least_freq_words and is_english_word(word) and word not in words_to_exclude:\n",
        "            sequence_filtered.append(word)\n",
        "    sequences_filtered.append(sequence_filtered)\n",
        "\n",
        "\n",
        "\n",
        "\n",
        "\n",
        "# Create skip-gram pairs\n",
        "skip_grams = []\n",
        "for sequence in sequences:\n",
        "    for i in range(1, len(sequence) - 1):\n",
        "        target_word = sequence[i]\n",
        "        context_words = [sequence[j] for j in range(i - 1, i + 2) if j != i]\n",
        "        for context_word in context_words:\n",
        "            skip_grams.append([target_word, context_word])\n",
        "\n",
        "skip_grams = np.array(skip_grams, dtype=np.int32)\n",
        "\n",
        "embedding_dim = 100\n",
        "\n",
        "# Define input layers\n",
        "input_target = tf.keras.layers.Input((1,))\n",
        "input_context = tf.keras.layers.Input((1,))\n",
        "\n",
        "# Define embedding layers\n",
        "embedding = tf.keras.layers.Embedding(vocab_size, embedding_dim, input_length=1, name='embedding')\n",
        "target = embedding(input_target)\n",
        "target = tf.keras.layers.Reshape((embedding_dim, 1))(target)\n",
        "context = embedding(input_context)\n",
        "context = tf.keras.layers.Reshape((embedding_dim, 1))(context)\n",
        "\n",
        "# Define dot product layer\n",
        "dot_product = tf.keras.layers.Dot(axes=1)([target, context])\n",
        "dot_product = tf.keras.layers.Reshape((1,))(dot_product)\n",
        "\n",
        "# Define output layer\n",
        "output = tf.keras.layers.Dense(1, activation='sigmoid')(dot_product)\n",
        "\n",
        "# Define model\n",
        "model = tf.keras.models.Model(inputs=[input_target, input_context], outputs=output)\n",
        "model.compile(loss='binary_crossentropy', optimizer='adam')\n",
        "\n",
        "epochs = 3\n",
        "batch_size = 2048\n",
        "\n",
        "loss_errors=[]\n",
        "for epoch in range(epochs):\n",
        "    loss = 0\n",
        "    for i in range(0, len(skip_grams), batch_size):\n",
        "        batch = skip_grams[i:i+batch_size]\n",
        "        target_word = batch[:, 0]\n",
        "        context_word = batch[:, 1]\n",
        "        label = np.ones(len(target_word))\n",
        "        loss += model.train_on_batch([target_word, context_word], label)\n",
        "        loss_errors.append(loss)\n",
        "    print('Epoch:', epoch+1, 'Loss:', loss)"
      ],
      "metadata": {
        "id": "ERJ4X3JFgqCc",
        "colab": {
          "base_uri": "https://localhost:8080/"
        },
        "outputId": "fa08b56d-8d95-41e3-c958-67aaf6205e7d"
      },
      "execution_count": null,
      "outputs": [
        {
          "output_type": "stream",
          "name": "stderr",
          "text": [
            "[nltk_data] Downloading package words to /root/nltk_data...\n",
            "[nltk_data]   Package words is already up-to-date!\n"
          ]
        },
        {
          "output_type": "stream",
          "name": "stdout",
          "text": [
            "Epoch: 1 Loss: 820.6044591723185\n",
            "Epoch: 2 Loss: 0.5358689077297925\n",
            "Epoch: 3 Loss: 0.0008903224514549279\n"
          ]
        }
      ]
    },
    {
      "cell_type": "code",
      "source": [
        "from matplotlib.pyplot import figure\n",
        "figure(figsize=(8, 6), dpi=80)\n",
        "\n",
        "plt.plot(np.arange(len(loss_errors)), loss_errors, 'r')\n",
        "plt.title('Loss function')\n",
        "plt.show()"
      ],
      "metadata": {
        "colab": {
          "base_uri": "https://localhost:8080/",
          "height": 429
        },
        "id": "EJNzHxeS4fL-",
        "outputId": "ee0c3c6f-6363-48ef-b9c2-3f904aaed52e"
      },
      "execution_count": null,
      "outputs": [
        {
          "output_type": "display_data",
          "data": {
            "text/plain": [
              "<Figure size 640x480 with 1 Axes>"
            ],
            "image/png": "[encoded data removed]"
          },
          "metadata": {
            "needs_background": "light"
          }
        }
      ]
    },
    {
      "cell_type": "code",
      "source": [
        "from sklearn.metrics.pairwise import cosine_similarity\n",
        "\n",
        "def find_most_similar(word, k=10):\n",
        "    # Get the embedding for the given word\n",
        "    embedding_matrix = model.get_layer('embedding').get_weights()[0]\n",
        "    word_embedding = embedding_matrix[tokenizer.word_index[word]]\n",
        "\n",
        "    # Compute the cosine similarity between the given word and all other words\n",
        "    cosine_similarities = cosine_similarity([word_embedding], embedding_matrix)[0]\n",
        "\n",
        "    # Get the indices of the k most similar words\n",
        "    similar_word_indices = cosine_similarities.argsort()[-k-1:-1][::-1]\n",
        "\n",
        "    # Get the words and their cosine similarity scores\n",
        "    similar_words = [tokenizer.index_word[index] for index in similar_word_indices]\n",
        "    similarity_scores = cosine_similarities[similar_word_indices]\n",
        "\n",
        "    # Print the results\n",
        "    print('Similar words for \"{}\":'.format(word))\n",
        "    for i in range(len(similar_words)):\n",
        "        print('  {}: {}'.format(similar_words[i], similarity_scores[i]))\n",
        "        \n",
        "        \n",
        "        \n",
        "        \n",
        "find_most_similar('location')   "
      ],
      "metadata": {
        "id": "ZpMx0SlHgqEy",
        "colab": {
          "base_uri": "https://localhost:8080/"
        },
        "outputId": "601f61b8-d461-4998-9209-21f58908ec07"
      },
      "execution_count": null,
      "outputs": [
        {
          "output_type": "stream",
          "name": "stdout",
          "text": [
            "Similar words for \"location\":\n",
            "  position: 0.835837721824646\n",
            "  loaction: 0.8206931352615356\n",
            "  job: 0.7463752031326294\n",
            "  soundproofing: 0.7416729927062988\n",
            "  ambiance: 0.7247754335403442\n",
            "  vibe: 0.724211573600769\n",
            "  news: 0.7236027717590332\n",
            "  pricing: 0.7218000888824463\n",
            "  timing: 0.7194422483444214\n",
            "  neighborhood: 0.7185158729553223\n"
          ]
        }
      ]
    },
    {
      "cell_type": "code",
      "source": [
        "from sklearn.decomposition import PCA\n",
        "\n",
        "figure(figsize=(8, 6), dpi=80)\n",
        "\n",
        "# Get the embedding matrix\n",
        "embedding_matrix = model.get_layer('embedding').get_weights()[0]\n",
        "\n",
        "# Get the embeddings of the words we want to plot\n",
        "words_to_plot = ['hotel', 'room', 'clean', 'comfortable', 'service', 'location', 'breakfast', 'bathroom']\n",
        "word_embeddings = [embedding_matrix[tokenizer.word_index[word]] for word in words_to_plot]\n",
        "\n",
        "# Use PCA to reduce the dimensionality of the embeddings to 2 dimensions\n",
        "pca = PCA(n_components=2)\n",
        "embeddings_2d = pca.fit_transform(word_embeddings)\n",
        "\n",
        "# Plot the embeddings in a scatter plot\n",
        "plt.scatter(embeddings_2d[:, 0], embeddings_2d[:, 1])\n",
        "for i, word in enumerate(words_to_plot):\n",
        "    plt.annotate(word, xy=(embeddings_2d[i, 0], embeddings_2d[i, 1]))\n",
        "plt.show()"
      ],
      "metadata": {
        "id": "-pxXQoL-gqHb",
        "colab": {
          "base_uri": "https://localhost:8080/",
          "height": 413
        },
        "outputId": "30a27706-eb35-46eb-c06f-a8fc5c7b7ab2"
      },
      "execution_count": null,
      "outputs": [
        {
          "output_type": "display_data",
          "data": {
            "text/plain": [
              "<Figure size 640x480 with 1 Axes>"
            ],
            "image/png": "[encoded data removed]"
          },
          "metadata": {
            "needs_background": "light"
          }
        }
      ]
    },
    {
      "cell_type": "code",
      "source": [],
      "metadata": {
        "id": "y8wiyf_oNtzw"
      },
      "execution_count": null,
      "outputs": []
    }
  ]
}