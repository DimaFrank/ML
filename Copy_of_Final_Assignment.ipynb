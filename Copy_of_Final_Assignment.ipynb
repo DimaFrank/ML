{
  "nbformat": 4,
  "nbformat_minor": 0,
  "metadata": {
    "colab": {
      "provenance": [],
      "machine_shape": "hm",
      "include_colab_link": true
    },
    "kernelspec": {
      "name": "python3",
      "display_name": "Python 3"
    },
    "language_info": {
      "name": "python"
    },
    "gpuClass": "premium",
    "accelerator": "GPU"
  },
  "cells": [
    {
      "cell_type": "markdown",
      "metadata": {
        "id": "view-in-github",
        "colab_type": "text"
      },
      "source": [
        "<a href=\"https://colab.research.google.com/github/DimaFrank/ML/blob/main/Copy_of_Final_Assignment.ipynb\" target=\"_parent\"><img src=\"https://colab.research.google.com/assets/colab-badge.svg\" alt=\"Open In Colab\"/></a>"
      ]
    },
    {
      "cell_type": "code",
      "source": [
        "# !pip install tensorflow\n",
        "# !pip install nltk"
      ],
      "metadata": {
        "id": "KHNWJgIeWfyn"
      },
      "execution_count": null,
      "outputs": []
    },
    {
      "cell_type": "code",
      "source": [
        "import zipfile\n",
        "import tensorflow as tf\n",
        "import numpy as np\n",
        "import matplotlib.pyplot as plt\n",
        "from collections import Counter\n",
        "import nltk\n",
        "from nltk.corpus import words\n",
        "import json\n",
        "import pickle\n",
        "\n",
        "from google.colab import drive"
      ],
      "metadata": {
        "id": "VBIOENB2nY1l"
      },
      "execution_count": 44,
      "outputs": []
    },
    {
      "cell_type": "code",
      "source": [
        "drive.mount('/content/drive/', force_remount=True)"
      ],
      "metadata": {
        "colab": {
          "base_uri": "https://localhost:8080/"
        },
        "id": "dck7iFmKWO-r",
        "outputId": "917f7c68-6e59-40ac-b764-e861596f469f"
      },
      "execution_count": 2,
      "outputs": [
        {
          "output_type": "stream",
          "name": "stdout",
          "text": [
            "Mounted at /content/drive/\n"
          ]
        }
      ]
    },
    {
      "cell_type": "code",
      "source": [
        "!ls /content/drive/MyDrive/ColabDatasets/"
      ],
      "metadata": {
        "colab": {
          "base_uri": "https://localhost:8080/"
        },
        "id": "66_WsYPRaJCH",
        "outputId": "f9603c2a-afa9-49d4-a071-1e886cfa5afe"
      },
      "execution_count": 25,
      "outputs": [
        {
          "output_type": "stream",
          "name": "stdout",
          "text": [
            "reviews_data.txt\n"
          ]
        }
      ]
    },
    {
      "cell_type": "code",
      "source": [
        "file_path='/content/drive/MyDrive/ColabDatasets/reviews_data.txt'\n",
        "\n",
        "# Read the reviews\n",
        "reviews = []\n",
        "with open(file_path, 'r', encoding='utf-8') as f:\n",
        "    reviews = f.readlines()\n",
        "\n",
        "# Remove newline characters\n",
        "reviews = [review.strip() for review in reviews]"
      ],
      "metadata": {
        "id": "5ssFjCq1myyC"
      },
      "execution_count": 4,
      "outputs": []
    },
    {
      "cell_type": "code",
      "source": [
        "reviews=reviews[:50000]\n",
        "reviews[0]"
      ],
      "metadata": {
        "id": "dBKhZx0dgqAI",
        "colab": {
          "base_uri": "https://localhost:8080/",
          "height": 157
        },
        "outputId": "94cb28c3-5f8c-48ec-dfd8-cae7eeebde3a"
      },
      "execution_count": 5,
      "outputs": [
        {
          "output_type": "execute_result",
          "data": {
            "text/plain": [
              "'oct nice trendy hotel location not too bad stayed in this hotel for one night as this is fairly new place some of the taxi drivers did not know where it was and or did not want to drive there once have eventually arrived at the hotel was very pleasantly surprised with the decor of the lobby ground floor area it was very stylish and modern found the reception staff geeting me with aloha bit out of place but guess they are briefed to say that to keep up the coroporate image as have starwood preferred guest member was given small gift upon check in it was only couple of fridge magnets in gift box but nevertheless nice gesture my room was nice and roomy there are tea and coffee facilities in each room and you get two complimentary bottles of water plus some toiletries by bliss the location is not great it is at the last metro stop and you then need to take taxi but if you are not planning on going to see the historic sites in beijing then you will be ok chose to have some breakfast in the hotel which was really tasty and there was good selection of dishes there are couple of computers to use in the communal area as well as pool table there is also small swimming pool and gym area would definitely stay in this hotel again but only if did not plan to travel to central beijing as it can take long time the location is ok if you plan to do lot of shopping as there is big shopping centre just few minutes away from the hotel and there are plenty of eating options around including restaurants that serve dog meat'"
            ],
            "application/vnd.google.colaboratory.intrinsic+json": {
              "type": "string"
            }
          },
          "metadata": {},
          "execution_count": 5
        }
      ]
    },
    {
      "cell_type": "code",
      "source": [
        "# Remove newline characters\n",
        "reviews = [review.strip() for review in reviews]\n",
        "\n",
        "tokenizer = tf.keras.preprocessing.text.Tokenizer()\n",
        "tokenizer.fit_on_texts(reviews)\n",
        "\n",
        "# Vocabulary size\n",
        "vocab_size = len(tokenizer.word_index) + 1\n",
        "\n",
        "# Tokenize the reviews\n",
        "sequences = tokenizer.texts_to_sequences(reviews)\n",
        "\n",
        "\n",
        "\n",
        "# Download the list of English words\n",
        "nltk.download('words')\n",
        "english_vocab = set(words.words())\n",
        "\n",
        "def is_english_word(word):\n",
        "    if isinstance(word, str):\n",
        "        return word.lower() in english_vocab\n",
        "    else:\n",
        "        return False\n",
        "\n",
        "stop_words = ['in', 'the', 'at', 'of', 'on', 'out', 'to', 'till', 'than', 'up', 'with', 'as', 'for', 'is', 'and', 'was', 'if', 'else']\n",
        "\n",
        "# Create counter to count word frequencies\n",
        "word_freq = Counter()\n",
        "for sequence in sequences:\n",
        "    word_freq.update(sequence)\n",
        "\n",
        "# Determine number of words to remove\n",
        "num_to_remove = int(0.1 * len(word_freq))\n",
        "\n",
        "# Determine most frequent and least frequent words to remove\n",
        "most_freq_words = set([w for w, _ in word_freq.most_common(num_to_remove)])\n",
        "least_freq_words = set([w for w, _ in word_freq.most_common()[:-num_to_remove-1:-1]])\n",
        "\n",
        "\n",
        "special_token = '<unk>'\n",
        "# Filter out most frequent and least frequent words\n",
        "sequences_filtered = []\n",
        "for sequence in sequences:\n",
        "    sequence_filtered = []\n",
        "    for word in sequence:\n",
        "        if word not in most_freq_words and word not in least_freq_words and is_english_word(word) and word not in stop_words:\n",
        "            sequence_filtered.append(word)\n",
        "        else:\n",
        "            sequence_filtered.append(special_token)\n",
        "    sequences_filtered.append(sequence_filtered)\n",
        "\n",
        "\n",
        "\n",
        "# Replace special_token with a unique integer value\n",
        "word_index = tokenizer.word_index\n",
        "special_token_index = len(word_index) + 1\n",
        "for i, sequence in enumerate(sequences_filtered):\n",
        "    for j, word in enumerate(sequence):\n",
        "        if word == special_token:\n",
        "            sequences_filtered[i][j] = special_token_index\n",
        "            special_token_index += 1\n",
        "\n",
        "\n",
        "window_size = 2\n",
        "\n",
        "# Create skip-gram pairs\n",
        "skip_grams = []\n",
        "for sequence in sequences_filtered:\n",
        "    for i in range(window_size, len(sequence) - window_size):\n",
        "        target_word = sequence[i]\n",
        "        context_words = sequence[i - window_size : i] + sequence[i + 1 : i + window_size + 1]\n",
        "        for context_word in context_words:\n",
        "            skip_grams.append([target_word, context_word])\n",
        "\n",
        "skip_grams = np.array(skip_grams, dtype=np.int32)\n",
        "\n",
        "\n",
        "\n",
        "\n",
        "embedding_dim = 100\n",
        "\n",
        "# Define input layers\n",
        "input_target = tf.keras.layers.Input((1,))\n",
        "input_context = tf.keras.layers.Input((1,))\n",
        "\n",
        "# Define embedding layers\n",
        "embedding = tf.keras.layers.Embedding(vocab_size, embedding_dim, input_length=1, name='embedding')\n",
        "target = embedding(input_target)\n",
        "target = tf.keras.layers.Reshape((embedding_dim, 1))(target)\n",
        "context = embedding(input_context)\n",
        "context = tf.keras.layers.Reshape((embedding_dim, 1))(context)\n",
        "\n",
        "# Define dot product layer\n",
        "dot_product = tf.keras.layers.Dot(axes=1)([target, context])\n",
        "dot_product = tf.keras.layers.Reshape((1,))(dot_product)\n",
        "\n",
        "# Define output layer\n",
        "output = tf.keras.layers.Dense(1, activation='sigmoid')(dot_product)\n",
        "\n",
        "# Define model\n",
        "model = tf.keras.models.Model(inputs=[input_target, input_context], outputs=output)\n",
        "model.compile(loss='binary_crossentropy', optimizer='adam')\n",
        "\n",
        "epochs = 10\n",
        "batch_size = 512\n",
        "\n",
        "loss_errors=[]\n",
        "for epoch in range(epochs):\n",
        "    loss = 0\n",
        "    for i in range(0, len(skip_grams), batch_size):\n",
        "        batch = skip_grams[i:i+batch_size]\n",
        "        target_word = batch[:, 0]\n",
        "        context_word = batch[:, 1]\n",
        "        label = np.ones(len(target_word))\n",
        "        loss += model.train_on_batch([target_word, context_word], label)\n",
        "        loss_errors.append(loss)\n",
        "    print('Epoch:', epoch+1, 'Loss:', loss)"
      ],
      "metadata": {
        "id": "ERJ4X3JFgqCc",
        "colab": {
          "base_uri": "https://localhost:8080/",
          "height": 484
        },
        "outputId": "b42ab0e2-03ca-490d-b5a6-e1c3bde83d84"
      },
      "execution_count": 7,
      "outputs": [
        {
          "output_type": "stream",
          "name": "stderr",
          "text": [
            "[nltk_data] Downloading package words to /root/nltk_data...\n",
            "[nltk_data]   Package words is already up-to-date!\n"
          ]
        },
        {
          "output_type": "stream",
          "name": "stdout",
          "text": [
            "Epoch: 1 Loss: 1126.2969671506808\n",
            "Epoch: 2 Loss: 0.0020634221484243653\n",
            "Epoch: 3 Loss: 0.0020634221484243653\n",
            "Epoch: 4 Loss: 0.0020634221484243653\n"
          ]
        },
        {
          "output_type": "error",
          "ename": "KeyboardInterrupt",
          "evalue": "ignored",
          "traceback": [
            "\u001b[0;31m---------------------------------------------------------------------------\u001b[0m",
            "\u001b[0;31mKeyboardInterrupt\u001b[0m                         Traceback (most recent call last)",
            "\u001b[0;32m<ipython-input-7-40958e51cf1b>\u001b[0m in \u001b[0;36m<module>\u001b[0;34m\u001b[0m\n\u001b[1;32m    113\u001b[0m         \u001b[0mcontext_word\u001b[0m \u001b[0;34m=\u001b[0m \u001b[0mbatch\u001b[0m\u001b[0;34m[\u001b[0m\u001b[0;34m:\u001b[0m\u001b[0;34m,\u001b[0m \u001b[0;36m1\u001b[0m\u001b[0;34m]\u001b[0m\u001b[0;34m\u001b[0m\u001b[0;34m\u001b[0m\u001b[0m\n\u001b[1;32m    114\u001b[0m         \u001b[0mlabel\u001b[0m \u001b[0;34m=\u001b[0m \u001b[0mnp\u001b[0m\u001b[0;34m.\u001b[0m\u001b[0mones\u001b[0m\u001b[0;34m(\u001b[0m\u001b[0mlen\u001b[0m\u001b[0;34m(\u001b[0m\u001b[0mtarget_word\u001b[0m\u001b[0;34m)\u001b[0m\u001b[0;34m)\u001b[0m\u001b[0;34m\u001b[0m\u001b[0;34m\u001b[0m\u001b[0m\n\u001b[0;32m--> 115\u001b[0;31m         \u001b[0mloss\u001b[0m \u001b[0;34m+=\u001b[0m \u001b[0mmodel\u001b[0m\u001b[0;34m.\u001b[0m\u001b[0mtrain_on_batch\u001b[0m\u001b[0;34m(\u001b[0m\u001b[0;34m[\u001b[0m\u001b[0mtarget_word\u001b[0m\u001b[0;34m,\u001b[0m \u001b[0mcontext_word\u001b[0m\u001b[0;34m]\u001b[0m\u001b[0;34m,\u001b[0m \u001b[0mlabel\u001b[0m\u001b[0;34m)\u001b[0m\u001b[0;34m\u001b[0m\u001b[0;34m\u001b[0m\u001b[0m\n\u001b[0m\u001b[1;32m    116\u001b[0m         \u001b[0mloss_errors\u001b[0m\u001b[0;34m.\u001b[0m\u001b[0mappend\u001b[0m\u001b[0;34m(\u001b[0m\u001b[0mloss\u001b[0m\u001b[0;34m)\u001b[0m\u001b[0;34m\u001b[0m\u001b[0;34m\u001b[0m\u001b[0m\n\u001b[1;32m    117\u001b[0m     \u001b[0mprint\u001b[0m\u001b[0;34m(\u001b[0m\u001b[0;34m'Epoch:'\u001b[0m\u001b[0;34m,\u001b[0m \u001b[0mepoch\u001b[0m\u001b[0;34m+\u001b[0m\u001b[0;36m1\u001b[0m\u001b[0;34m,\u001b[0m \u001b[0;34m'Loss:'\u001b[0m\u001b[0;34m,\u001b[0m \u001b[0mloss\u001b[0m\u001b[0;34m)\u001b[0m\u001b[0;34m\u001b[0m\u001b[0;34m\u001b[0m\u001b[0m\n",
            "\u001b[0;32m/usr/local/lib/python3.9/dist-packages/keras/engine/training.py\u001b[0m in \u001b[0;36mtrain_on_batch\u001b[0;34m(self, x, y, sample_weight, class_weight, reset_metrics, return_dict)\u001b[0m\n\u001b[1;32m   2472\u001b[0m             \u001b[0mself\u001b[0m\u001b[0;34m\u001b[0m\u001b[0;34m\u001b[0m\u001b[0m\n\u001b[1;32m   2473\u001b[0m         ):\n\u001b[0;32m-> 2474\u001b[0;31m             iterator = data_adapter.single_batch_iterator(\n\u001b[0m\u001b[1;32m   2475\u001b[0m                 \u001b[0mself\u001b[0m\u001b[0;34m.\u001b[0m\u001b[0mdistribute_strategy\u001b[0m\u001b[0;34m,\u001b[0m \u001b[0mx\u001b[0m\u001b[0;34m,\u001b[0m \u001b[0my\u001b[0m\u001b[0;34m,\u001b[0m \u001b[0msample_weight\u001b[0m\u001b[0;34m,\u001b[0m \u001b[0mclass_weight\u001b[0m\u001b[0;34m\u001b[0m\u001b[0;34m\u001b[0m\u001b[0m\n\u001b[1;32m   2476\u001b[0m             )\n",
            "\u001b[0;32m/usr/local/lib/python3.9/dist-packages/keras/engine/data_adapter.py\u001b[0m in \u001b[0;36msingle_batch_iterator\u001b[0;34m(strategy, x, y, sample_weight, class_weight)\u001b[0m\n\u001b[1;32m   1831\u001b[0m         \u001b[0mdataset\u001b[0m \u001b[0;34m=\u001b[0m \u001b[0mdataset\u001b[0m\u001b[0;34m.\u001b[0m\u001b[0mmap\u001b[0m\u001b[0;34m(\u001b[0m\u001b[0m_make_class_weight_map_fn\u001b[0m\u001b[0;34m(\u001b[0m\u001b[0mclass_weight\u001b[0m\u001b[0;34m)\u001b[0m\u001b[0;34m)\u001b[0m\u001b[0;34m\u001b[0m\u001b[0;34m\u001b[0m\u001b[0m\n\u001b[1;32m   1832\u001b[0m     \u001b[0mdataset\u001b[0m \u001b[0;34m=\u001b[0m \u001b[0mstrategy\u001b[0m\u001b[0;34m.\u001b[0m\u001b[0mexperimental_distribute_dataset\u001b[0m\u001b[0;34m(\u001b[0m\u001b[0mdataset\u001b[0m\u001b[0;34m)\u001b[0m\u001b[0;34m\u001b[0m\u001b[0;34m\u001b[0m\u001b[0m\n\u001b[0;32m-> 1833\u001b[0;31m     \u001b[0;32mreturn\u001b[0m \u001b[0miter\u001b[0m\u001b[0;34m(\u001b[0m\u001b[0mdataset\u001b[0m\u001b[0;34m)\u001b[0m\u001b[0;34m\u001b[0m\u001b[0;34m\u001b[0m\u001b[0m\n\u001b[0m\u001b[1;32m   1834\u001b[0m \u001b[0;34m\u001b[0m\u001b[0m\n\u001b[1;32m   1835\u001b[0m \u001b[0;34m\u001b[0m\u001b[0m\n",
            "\u001b[0;32m/usr/local/lib/python3.9/dist-packages/tensorflow/python/data/ops/dataset_ops.py\u001b[0m in \u001b[0;36m__iter__\u001b[0;34m(self)\u001b[0m\n\u001b[1;32m    497\u001b[0m     \u001b[0;32mif\u001b[0m \u001b[0mcontext\u001b[0m\u001b[0;34m.\u001b[0m\u001b[0mexecuting_eagerly\u001b[0m\u001b[0;34m(\u001b[0m\u001b[0;34m)\u001b[0m \u001b[0;32mor\u001b[0m \u001b[0mops\u001b[0m\u001b[0;34m.\u001b[0m\u001b[0minside_function\u001b[0m\u001b[0;34m(\u001b[0m\u001b[0;34m)\u001b[0m\u001b[0;34m:\u001b[0m\u001b[0;34m\u001b[0m\u001b[0;34m\u001b[0m\u001b[0m\n\u001b[1;32m    498\u001b[0m       \u001b[0;32mwith\u001b[0m \u001b[0mops\u001b[0m\u001b[0;34m.\u001b[0m\u001b[0mcolocate_with\u001b[0m\u001b[0;34m(\u001b[0m\u001b[0mself\u001b[0m\u001b[0;34m.\u001b[0m\u001b[0m_variant_tensor\u001b[0m\u001b[0;34m)\u001b[0m\u001b[0;34m:\u001b[0m\u001b[0;34m\u001b[0m\u001b[0;34m\u001b[0m\u001b[0m\n\u001b[0;32m--> 499\u001b[0;31m         \u001b[0;32mreturn\u001b[0m \u001b[0miterator_ops\u001b[0m\u001b[0;34m.\u001b[0m\u001b[0mOwnedIterator\u001b[0m\u001b[0;34m(\u001b[0m\u001b[0mself\u001b[0m\u001b[0;34m)\u001b[0m\u001b[0;34m\u001b[0m\u001b[0;34m\u001b[0m\u001b[0m\n\u001b[0m\u001b[1;32m    500\u001b[0m     \u001b[0;32melse\u001b[0m\u001b[0;34m:\u001b[0m\u001b[0;34m\u001b[0m\u001b[0;34m\u001b[0m\u001b[0m\n\u001b[1;32m    501\u001b[0m       raise RuntimeError(\"`tf.data.Dataset` only supports Python-style \"\n",
            "\u001b[0;32m/usr/local/lib/python3.9/dist-packages/tensorflow/python/data/ops/iterator_ops.py\u001b[0m in \u001b[0;36m__init__\u001b[0;34m(self, dataset, components, element_spec)\u001b[0m\n\u001b[1;32m    701\u001b[0m             \u001b[0;34m\"When `dataset` is provided, `element_spec` and `components` must \"\u001b[0m\u001b[0;34m\u001b[0m\u001b[0;34m\u001b[0m\u001b[0m\n\u001b[1;32m    702\u001b[0m             \"not be specified.\")\n\u001b[0;32m--> 703\u001b[0;31m       \u001b[0mself\u001b[0m\u001b[0;34m.\u001b[0m\u001b[0m_create_iterator\u001b[0m\u001b[0;34m(\u001b[0m\u001b[0mdataset\u001b[0m\u001b[0;34m)\u001b[0m\u001b[0;34m\u001b[0m\u001b[0;34m\u001b[0m\u001b[0m\n\u001b[0m\u001b[1;32m    704\u001b[0m \u001b[0;34m\u001b[0m\u001b[0m\n\u001b[1;32m    705\u001b[0m     \u001b[0mself\u001b[0m\u001b[0;34m.\u001b[0m\u001b[0m_get_next_call_count\u001b[0m \u001b[0;34m=\u001b[0m \u001b[0;36m0\u001b[0m\u001b[0;34m\u001b[0m\u001b[0;34m\u001b[0m\u001b[0m\n",
            "\u001b[0;32m/usr/local/lib/python3.9/dist-packages/tensorflow/python/data/ops/iterator_ops.py\u001b[0m in \u001b[0;36m_create_iterator\u001b[0;34m(self, dataset)\u001b[0m\n\u001b[1;32m    740\u001b[0m             self._flat_output_types)\n\u001b[1;32m    741\u001b[0m         \u001b[0mself\u001b[0m\u001b[0;34m.\u001b[0m\u001b[0m_iterator_resource\u001b[0m\u001b[0;34m.\u001b[0m\u001b[0mop\u001b[0m\u001b[0;34m.\u001b[0m\u001b[0mexperimental_set_type\u001b[0m\u001b[0;34m(\u001b[0m\u001b[0mfulltype\u001b[0m\u001b[0;34m)\u001b[0m\u001b[0;34m\u001b[0m\u001b[0;34m\u001b[0m\u001b[0m\n\u001b[0;32m--> 742\u001b[0;31m       \u001b[0mgen_dataset_ops\u001b[0m\u001b[0;34m.\u001b[0m\u001b[0mmake_iterator\u001b[0m\u001b[0;34m(\u001b[0m\u001b[0mds_variant\u001b[0m\u001b[0;34m,\u001b[0m \u001b[0mself\u001b[0m\u001b[0;34m.\u001b[0m\u001b[0m_iterator_resource\u001b[0m\u001b[0;34m)\u001b[0m\u001b[0;34m\u001b[0m\u001b[0;34m\u001b[0m\u001b[0m\n\u001b[0m\u001b[1;32m    743\u001b[0m \u001b[0;34m\u001b[0m\u001b[0m\n\u001b[1;32m    744\u001b[0m   \u001b[0;32mdef\u001b[0m \u001b[0m__iter__\u001b[0m\u001b[0;34m(\u001b[0m\u001b[0mself\u001b[0m\u001b[0;34m)\u001b[0m\u001b[0;34m:\u001b[0m\u001b[0;34m\u001b[0m\u001b[0;34m\u001b[0m\u001b[0m\n",
            "\u001b[0;32m/usr/local/lib/python3.9/dist-packages/tensorflow/python/ops/gen_dataset_ops.py\u001b[0m in \u001b[0;36mmake_iterator\u001b[0;34m(dataset, iterator, name)\u001b[0m\n\u001b[1;32m   3407\u001b[0m   \u001b[0;32mif\u001b[0m \u001b[0mtld\u001b[0m\u001b[0;34m.\u001b[0m\u001b[0mis_eager\u001b[0m\u001b[0;34m:\u001b[0m\u001b[0;34m\u001b[0m\u001b[0;34m\u001b[0m\u001b[0m\n\u001b[1;32m   3408\u001b[0m     \u001b[0;32mtry\u001b[0m\u001b[0;34m:\u001b[0m\u001b[0;34m\u001b[0m\u001b[0;34m\u001b[0m\u001b[0m\n\u001b[0;32m-> 3409\u001b[0;31m       _result = pywrap_tfe.TFE_Py_FastPathExecute(\n\u001b[0m\u001b[1;32m   3410\u001b[0m         _ctx, \"MakeIterator\", name, dataset, iterator)\n\u001b[1;32m   3411\u001b[0m       \u001b[0;32mreturn\u001b[0m \u001b[0m_result\u001b[0m\u001b[0;34m\u001b[0m\u001b[0;34m\u001b[0m\u001b[0m\n",
            "\u001b[0;31mKeyboardInterrupt\u001b[0m: "
          ]
        }
      ]
    },
    {
      "cell_type": "code",
      "source": [
        "from matplotlib.pyplot import figure\n",
        "figure(figsize=(8, 6), dpi=80)\n",
        "\n",
        "plt.plot(np.arange(len(loss_errors)), loss_errors, 'r')\n",
        "plt.title('Loss function')\n",
        "plt.show()"
      ],
      "metadata": {
        "colab": {
          "base_uri": "https://localhost:8080/",
          "height": 429
        },
        "id": "EJNzHxeS4fL-",
        "outputId": "f52100d2-6002-4212-af72-b9b56b35110c"
      },
      "execution_count": 8,
      "outputs": [
        {
          "output_type": "display_data",
          "data": {
            "text/plain": [
              "<Figure size 640x480 with 1 Axes>"
            ],
            "image/png": "[encoded data removed]"
          },
          "metadata": {
            "needs_background": "light"
          }
        }
      ]
    },
    {
      "cell_type": "code",
      "source": [
        "# Get the embedding matrix\n",
        "embedding_matrix = model.get_layer('embedding').get_weights()[0]\n",
        "\n",
        "# Save the embedding matrix to a file\n",
        "np.save('/content/drive/MyDrive/ColabOutputs/embedding_matrix.npy', embedding_matrix)\n",
        "\n",
        "# Save the tokenizer as pkl\n",
        "with open('/content/drive/MyDrive/ColabOutputs/tokenizer.pkl', 'wb') as f:\n",
        "    pickle.dump(tokenizer, f)"
      ],
      "metadata": {
        "id": "flEukNcZe3nL"
      },
      "execution_count": 46,
      "outputs": []
    },
    {
      "cell_type": "code",
      "source": [
        "from tensorflow.keras.preprocessing.text import Tokenizer\n",
        "from sklearn.metrics.pairwise import cosine_similarity\n",
        "\n",
        "def find_most_similar(word, k=10):\n",
        "    # Load the embedding matrix from the file\n",
        "    embedding_matrix = np.load('/content/drive/MyDrive/ColabOutputs/embedding_matrix.npy')\n",
        "\n",
        "    # Load the tokenizer from the file using pickle\n",
        "    with open('/content/drive/MyDrive/ColabOutputs/tokenizer.pkl', 'rb') as f:\n",
        "        tokenizer = pickle.load(f)\n",
        "\n",
        "    # Get the embedding for the given word\n",
        "    word_embedding = embedding_matrix[tokenizer.word_index[word]]\n",
        "\n",
        "    # Compute the cosine similarity between the given word and all other words\n",
        "    cosine_similarities = cosine_similarity([word_embedding], embedding_matrix)[0]\n",
        "\n",
        "    # Get the indices of the k most similar words\n",
        "    similar_word_indices = cosine_similarities.argsort()[-k-1:-1][::-1]\n",
        "\n",
        "    # Get the words and their cosine similarity scores\n",
        "    similar_words = [tokenizer.index_word[index] for index in similar_word_indices]\n",
        "    similarity_scores = cosine_similarities[similar_word_indices]\n",
        "\n",
        "    # Print the results\n",
        "    print('Similar words for \"{}\":'.format(word))\n",
        "    for i in range(len(similar_words)):\n",
        "        print('  {}: {}'.format(similar_words[i], similarity_scores[i]))\n",
        "\n",
        "\n",
        "find_most_similar('pub')"
      ],
      "metadata": {
        "colab": {
          "base_uri": "https://localhost:8080/"
        },
        "id": "T3hMwlXBe5xf",
        "outputId": "41dae83b-5c82-4f3b-93fe-990a0920afaf"
      },
      "execution_count": 109,
      "outputs": [
        {
          "output_type": "stream",
          "name": "stdout",
          "text": [
            "Similar words for \"pub\":\n",
            "  wheretheir: 0.4561923146247864\n",
            "  furnature: 0.42507511377334595\n",
            "  inability: 0.4106626510620117\n",
            "  remenber: 0.38685399293899536\n",
            "  wasalready: 0.37322962284088135\n",
            "  unbureocratic: 0.36752021312713623\n",
            "  craned: 0.3596181273460388\n",
            "  unfortunatly: 0.358915776014328\n",
            "  else: 0.34987741708755493\n",
            "  howbig: 0.3484119474887848\n"
          ]
        }
      ]
    },
    {
      "cell_type": "code",
      "source": [
        "from sklearn.decomposition import PCA\n",
        "\n",
        "figure(figsize=(10, 8), dpi=80)\n",
        "\n",
        "# Get the embedding matrix\n",
        "embedding_matrix = model.get_layer('embedding').get_weights()[0]\n",
        "\n",
        "# Get the embeddings of the words we want to plot\n",
        "words_to_plot = ['hotel', 'room', 'clean', 'comfortable', 'service', 'location', 'breakfast', 'bathroom', 'casino', 'luxary',\n",
        "                 'restaurant', 'airport', 'suites', 'food', 'pub', 'rental', 'ticket', 'guest', 'cruise', 'bar', 'food', 'tower',\n",
        "                 'spa', 'travel', 'stay', 'beach', 'towel', 'bus', 'good', 'great', 'fine', 'quality', 'bad', 'poor', 'inferior',\n",
        "                 'terrible', 'nasty', 'disgusting']\n",
        "word_embeddings = [embedding_matrix[tokenizer.word_index[word]] for word in words_to_plot]\n",
        "\n",
        "# Use PCA to reduce the dimensionality of the embeddings to 2 dimensions\n",
        "pca = PCA(n_components=2)\n",
        "embeddings_2d = pca.fit_transform(word_embeddings)\n",
        "\n",
        "# Plot the embeddings in a scatter plot\n",
        "plt.scatter(embeddings_2d[:, 0], embeddings_2d[:, 1])\n",
        "for i, word in enumerate(words_to_plot):\n",
        "    plt.annotate(word, xy=(embeddings_2d[i, 0], embeddings_2d[i, 1]))\n",
        "plt.show()"
      ],
      "metadata": {
        "id": "-pxXQoL-gqHb",
        "colab": {
          "base_uri": "https://localhost:8080/",
          "height": 533
        },
        "outputId": "5b5b2d82-0faa-492c-ca42-6a2aab54352b"
      },
      "execution_count": 113,
      "outputs": [
        {
          "output_type": "display_data",
          "data": {
            "text/plain": [
              "<Figure size 800x640 with 1 Axes>"
            ],
            "image/png": "[encoded data removed]"
          },
          "metadata": {
            "needs_background": "light"
          }
        }
      ]
    },
    {
      "cell_type": "code",
      "source": [],
      "metadata": {
        "id": "FOa19J5tuzNx"
      },
      "execution_count": null,
      "outputs": []
    }
  ]
}