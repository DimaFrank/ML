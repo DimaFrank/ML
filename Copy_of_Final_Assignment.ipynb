{
  "nbformat": 4,
  "nbformat_minor": 0,
  "metadata": {
    "colab": {
      "provenance": [],
      "machine_shape": "hm",
      "include_colab_link": true
    },
    "kernelspec": {
      "name": "python3",
      "display_name": "Python 3"
    },
    "language_info": {
      "name": "python"
    },
    "gpuClass": "premium",
    "accelerator": "GPU"
  },
  "cells": [
    {
      "cell_type": "markdown",
      "metadata": {
        "id": "view-in-github",
        "colab_type": "text"
      },
      "source": [
        "<a href=\"https://colab.research.google.com/github/DimaFrank/ML/blob/main/Copy_of_Final_Assignment.ipynb\" target=\"_parent\"><img src=\"https://colab.research.google.com/assets/colab-badge.svg\" alt=\"Open In Colab\"/></a>"
      ]
    },
    {
      "cell_type": "code",
      "source": [
        "# !pip install tensorflow\n",
        "# !pip install nltk"
      ],
      "metadata": {
        "id": "KHNWJgIeWfyn"
      },
      "execution_count": null,
      "outputs": []
    },
    {
      "cell_type": "code",
      "source": [
        "import zipfile\n",
        "import tensorflow as tf\n",
        "import numpy as np\n",
        "import matplotlib.pyplot as plt\n",
        "from collections import Counter\n",
        "import nltk\n",
        "from nltk.corpus import words\n",
        "import json\n",
        "import pickle\n",
        "from sklearn.model_selection import train_test_split\n",
        "import random\n",
        "\n",
        "from google.colab import drive"
      ],
      "metadata": {
        "id": "VBIOENB2nY1l"
      },
      "execution_count": null,
      "outputs": []
    },
    {
      "cell_type": "code",
      "source": [
        "drive.mount('/content/drive/', force_remount=True)"
      ],
      "metadata": {
        "colab": {
          "base_uri": "https://localhost:8080/"
        },
        "id": "dck7iFmKWO-r",
        "outputId": "11884915-9bc2-46b0-ef6d-74ff63042d1c"
      },
      "execution_count": null,
      "outputs": [
        {
          "output_type": "stream",
          "name": "stdout",
          "text": [
            "Mounted at /content/drive/\n"
          ]
        }
      ]
    },
    {
      "cell_type": "code",
      "source": [
        "!ls /content/drive/MyDrive/ColabDatasets/"
      ],
      "metadata": {
        "colab": {
          "base_uri": "https://localhost:8080/"
        },
        "id": "66_WsYPRaJCH",
        "outputId": "cd744232-c7eb-4e98-a7c8-bab6cabdd226"
      },
      "execution_count": null,
      "outputs": [
        {
          "output_type": "stream",
          "name": "stdout",
          "text": [
            "reviews_data.txt\n"
          ]
        }
      ]
    },
    {
      "cell_type": "code",
      "source": [
        "file_path='/content/drive/MyDrive/ColabDatasets/reviews_data.txt'\n",
        "\n",
        "# Read the reviews\n",
        "reviews = []\n",
        "with open(file_path, 'r', encoding='utf-8') as f:\n",
        "    reviews = f.readlines()\n",
        "\n",
        "# Remove newline characters\n",
        "reviews = [review.strip() for review in reviews]"
      ],
      "metadata": {
        "id": "5ssFjCq1myyC"
      },
      "execution_count": null,
      "outputs": []
    },
    {
      "cell_type": "code",
      "source": [
        "# reviews=reviews[:100000]\n",
        "reviews[0]"
      ],
      "metadata": {
        "id": "dBKhZx0dgqAI",
        "colab": {
          "base_uri": "https://localhost:8080/",
          "height": 157
        },
        "outputId": "d554e7cf-a974-4c78-8eca-de0a3f504879"
      },
      "execution_count": null,
      "outputs": [
        {
          "output_type": "execute_result",
          "data": {
            "text/plain": [
              "'oct nice trendy hotel location not too bad stayed in this hotel for one night as this is fairly new place some of the taxi drivers did not know where it was and or did not want to drive there once have eventually arrived at the hotel was very pleasantly surprised with the decor of the lobby ground floor area it was very stylish and modern found the reception staff geeting me with aloha bit out of place but guess they are briefed to say that to keep up the coroporate image as have starwood preferred guest member was given small gift upon check in it was only couple of fridge magnets in gift box but nevertheless nice gesture my room was nice and roomy there are tea and coffee facilities in each room and you get two complimentary bottles of water plus some toiletries by bliss the location is not great it is at the last metro stop and you then need to take taxi but if you are not planning on going to see the historic sites in beijing then you will be ok chose to have some breakfast in the hotel which was really tasty and there was good selection of dishes there are couple of computers to use in the communal area as well as pool table there is also small swimming pool and gym area would definitely stay in this hotel again but only if did not plan to travel to central beijing as it can take long time the location is ok if you plan to do lot of shopping as there is big shopping centre just few minutes away from the hotel and there are plenty of eating options around including restaurants that serve dog meat'"
            ],
            "application/vnd.google.colaboratory.intrinsic+json": {
              "type": "string"
            }
          },
          "metadata": {},
          "execution_count": 21
        }
      ]
    },
    {
      "cell_type": "markdown",
      "source": [
        "**Preprocessing:**\n",
        "\n",
        "1) Tokenizing text data.\n",
        "\n",
        "2) Defining stop words and the functions that checks if word is an english word.\n",
        "\n",
        "3) Counting frequency of each word in data\n",
        "\n",
        "4) Define trashold of 0.1, in order to remove 10% of most frequent words and 10% of less frequent words.\n",
        "\n",
        "5) Replacing not allowed words (not english words/very frequent/less frequent) by special token '<unk>'.\n",
        "\n",
        "6) Defining window size\n",
        "\n",
        "\n",
        "**Model Building:**\n",
        "\n",
        "7) Creating skip-gram pairs according to window size that was defined before\n",
        "\n",
        "8) Defining embedding dimension, inpur layers, embedding layers and the model.\n",
        "\n",
        "9) Defining the hyperparameters: batch size, number of epochs and patience for early stopping.\n",
        "\n",
        "10) Fitting the model on skip-gram pairs created before with train_on_batch() method. \n",
        "\n"
      ],
      "metadata": {
        "id": "LAaGOkGESIJB"
      }
    },
    {
      "cell_type": "code",
      "source": [
        "# Remove newline characters\n",
        "reviews = [review.strip() for review in reviews]\n",
        "\n",
        "tokenizer = tf.keras.preprocessing.text.Tokenizer()\n",
        "tokenizer.fit_on_texts(reviews)\n",
        "\n",
        "# Vocabulary size\n",
        "vocab_size = len(tokenizer.word_index) + 1\n",
        "\n",
        "# Tokenize the reviews\n",
        "sequences = tokenizer.texts_to_sequences(reviews)\n",
        "\n",
        "\n",
        "\n",
        "# Download the list of English words\n",
        "nltk.download('words')\n",
        "english_vocab = set(words.words())\n",
        "\n",
        "def is_english_word(word):\n",
        "    if isinstance(word, str):\n",
        "        return word.lower() in english_vocab\n",
        "    else:\n",
        "        return False\n",
        "\n",
        "stop_words = ['in', 'the', 'at', 'of', 'on', 'out', 'to', 'till', 'than', 'up', 'with', 'as', 'for', 'is', 'and', 'was', 'if', 'else']\n",
        "\n",
        "# Create counter to count word frequencies\n",
        "word_freq = Counter()\n",
        "for sequence in sequences:\n",
        "    word_freq.update(sequence)\n",
        "\n",
        "# Determine number of words to remove\n",
        "num_to_remove = int(0.1 * len(word_freq))\n",
        "\n",
        "# Determine most frequent and least frequent words to remove\n",
        "most_freq_words = set([w for w, _ in word_freq.most_common(num_to_remove)])\n",
        "least_freq_words = set([w for w, _ in word_freq.most_common()[:-num_to_remove-1:-1]])\n",
        "\n",
        "\n",
        "special_token = '<unk>'\n",
        "# Filter out most frequent and least frequent words\n",
        "sequences_filtered = []\n",
        "for sequence in sequences:\n",
        "    sequence_filtered = []\n",
        "    for word in sequence:\n",
        "        if word not in most_freq_words and word not in least_freq_words and is_english_word(word) and word not in stop_words:\n",
        "            sequence_filtered.append(word)\n",
        "        else:\n",
        "            sequence_filtered.append(special_token)\n",
        "    sequences_filtered.append(sequence_filtered)\n",
        "\n",
        "\n",
        "\n",
        "# Replace special_token with a unique integer value\n",
        "word_index = tokenizer.word_index\n",
        "special_token_index = len(word_index) + 1\n",
        "for i, sequence in enumerate(sequences_filtered):\n",
        "    for j, word in enumerate(sequence):\n",
        "        if word == special_token:\n",
        "            sequences_filtered[i][j] = special_token_index\n",
        "            special_token_index += 1\n",
        "\n",
        "\n",
        "window_size = 5\n",
        "\n",
        "# Create skip-gram pairs\n",
        "skip_grams = []\n",
        "for sequence in sequences_filtered:\n",
        "    for i in range(window_size, len(sequence) - window_size):\n",
        "        target_word = sequence[i]\n",
        "        context_words = sequence[i - window_size : i] + sequence[i + 1 : i + window_size + 1]\n",
        "        for context_word in context_words:\n",
        "            skip_grams.append([target_word, context_word])\n",
        "\n",
        "skip_grams = np.array(skip_grams, dtype=np.int32)\n",
        "\n",
        "\n",
        "\n",
        "\n",
        "embedding_dim = 100\n",
        "\n",
        "# Define input layers\n",
        "input_target = tf.keras.layers.Input((1,))\n",
        "input_context = tf.keras.layers.Input((1,))\n",
        "\n",
        "# Define embedding layers\n",
        "embedding = tf.keras.layers.Embedding(vocab_size, embedding_dim, input_length=1, name='embedding')\n",
        "target = embedding(input_target)\n",
        "target = tf.keras.layers.Reshape((embedding_dim, 1))(target)\n",
        "context = embedding(input_context)\n",
        "context = tf.keras.layers.Reshape((embedding_dim, 1))(context)\n",
        "\n",
        "# Define dot product layer\n",
        "dot_product = tf.keras.layers.Dot(axes=1)([target, context])\n",
        "dot_product = tf.keras.layers.Reshape((1,))(dot_product)\n",
        "\n",
        "# Define output layer\n",
        "output = tf.keras.layers.Dense(1, activation='sigmoid')(dot_product)\n",
        "\n",
        "# Define model\n",
        "model = tf.keras.models.Model(inputs=[input_target, input_context], outputs=output)\n",
        "model.compile(loss='binary_crossentropy', optimizer='adam')\n",
        "\n",
        "# Define early stopping\n",
        "patience=2\n",
        "\n",
        "epochs = 5\n",
        "batch_size = 1024\n",
        "loss_errors = []\n",
        "best_loss = float('inf')\n",
        "\n",
        "for epoch in range(epochs):\n",
        "    loss = 0\n",
        "    for i in range(0, len(skip_grams), batch_size):\n",
        "        batch = skip_grams[i:i+batch_size]\n",
        "        target_word = batch[:, 0]\n",
        "        context_word = batch[:, 1]\n",
        "        label = np.ones(len(target_word))\n",
        "        loss += model.train_on_batch([target_word, context_word], label)\n",
        "        loss_errors.append(loss)\n",
        "    print('Epoch:', epoch+1, 'Loss:', loss)\n",
        "    # Check if loss has improved\n",
        "    if loss < best_loss:\n",
        "        best_loss = loss\n",
        "        last_improvement = 0\n",
        "    else:\n",
        "        last_improvement += 1\n",
        "        if last_improvement >= patience:\n",
        "            print(\"Early stopping!\")\n",
        "            break\n"
      ],
      "metadata": {
        "id": "ERJ4X3JFgqCc",
        "colab": {
          "base_uri": "https://localhost:8080/"
        },
        "outputId": "25b81933-c6e2-430a-f911-f0fa7adcbb03"
      },
      "execution_count": null,
      "outputs": [
        {
          "output_type": "stream",
          "name": "stderr",
          "text": [
            "[nltk_data] Downloading package words to /root/nltk_data...\n",
            "[nltk_data]   Package words is already up-to-date!\n"
          ]
        },
        {
          "output_type": "stream",
          "name": "stdout",
          "text": [
            "Epoch: 1 Loss: 1126.3063588179339\n",
            "Epoch: 2 Loss: 0.011343347534277015\n",
            "Epoch: 3 Loss: 0.011343347534277015\n",
            "Epoch: 4 Loss: 0.011343347534277015\n",
            "Early stopping!\n"
          ]
        }
      ]
    },
    {
      "cell_type": "markdown",
      "source": [
        "**Lost Function:**"
      ],
      "metadata": {
        "id": "8W9OOwnCU-po"
      }
    },
    {
      "cell_type": "code",
      "source": [
        "from matplotlib.pyplot import figure\n",
        "figure(figsize=(8, 6), dpi=80)\n",
        "\n",
        "plt.plot(np.arange(len(loss_errors)), loss_errors, 'r')\n",
        "plt.title('Loss function')\n",
        "plt.show()"
      ],
      "metadata": {
        "colab": {
          "base_uri": "https://localhost:8080/",
          "height": 443
        },
        "id": "EJNzHxeS4fL-",
        "outputId": "74d51ffb-c876-4109-fbe3-e1cc999f9eb9"
      },
      "execution_count": null,
      "outputs": [
        {
          "output_type": "display_data",
          "data": {
            "text/plain": [
              "<Figure size 640x480 with 1 Axes>"
            ],
            "image/png": "[encoded data removed]"
          },
          "metadata": {
            "needs_background": "light"
          }
        }
      ]
    },
    {
      "cell_type": "markdown",
      "source": [
        "**Saving the model into Google Drive directory**"
      ],
      "metadata": {
        "id": "lbzTp2fUVE6o"
      }
    },
    {
      "cell_type": "code",
      "source": [
        "# Get the embedding matrix\n",
        "embedding_matrix = model.get_layer('embedding').get_weights()[0]\n",
        "\n",
        "# Save the embedding matrix to a file\n",
        "np.save('/content/drive/MyDrive/ColabOutputs/embedding_matrix.npy', embedding_matrix)\n",
        "\n",
        "# Save the tokenizer as pkl\n",
        "with open('/content/drive/MyDrive/ColabOutputs/tokenizer.pkl', 'wb') as f:\n",
        "    pickle.dump(tokenizer, f)"
      ],
      "metadata": {
        "id": "flEukNcZe3nL"
      },
      "execution_count": null,
      "outputs": []
    },
    {
      "cell_type": "markdown",
      "source": [
        "***This function gets a word as input and finds the closest embedded (with respect to\n",
        "           cosine similarity) words to it, along with their respective cosine similarity score. \n",
        "           The argument 'k' is the number of closest words to return.***"
      ],
      "metadata": {
        "id": "MUYBbqCkVZWS"
      }
    },
    {
      "cell_type": "code",
      "source": [
        "from tensorflow.keras.preprocessing.text import Tokenizer\n",
        "from sklearn.metrics.pairwise import cosine_similarity\n",
        "\n",
        "\n",
        "def find_most_similar(embedding_matrix_location, tokenizer_location, word, k=10):\n",
        "    # Load the embedding matrix from the file\n",
        "    embedding_matrix = np.load(embedding_matrix_location)\n",
        "\n",
        "    # Load the tokenizer from the file using pickle\n",
        "    with open(tokenizer_location, 'rb') as f:\n",
        "        tokenizer = pickle.load(f)\n",
        "\n",
        "    # Get the embedding for the given word\n",
        "    word_embedding = embedding_matrix[tokenizer.word_index[word]]\n",
        "\n",
        "    # Compute the cosine similarity between the given word and all other words\n",
        "    cosine_similarities = cosine_similarity([word_embedding], embedding_matrix)[0]\n",
        "\n",
        "    # Get the indices of the k most similar words\n",
        "    similar_word_indices = cosine_similarities.argsort()[-k-1:-1][::-1]\n",
        "\n",
        "    # Get the words and their cosine similarity scores\n",
        "    similar_words = [tokenizer.index_word[index] for index in similar_word_indices]\n",
        "    similarity_scores = cosine_similarities[similar_word_indices]\n",
        "\n",
        "    # Print the results\n",
        "    print('Similar words for \"{}\":'.format(word))\n",
        "    for i in range(len(similar_words)):\n",
        "        print('  {}: {}'.format(similar_words[i], similarity_scores[i]))\n",
        "\n",
        "\n",
        "find_most_similar(embedding_matrix_location='/content/drive/MyDrive/ColabOutputs/embedding_matrix.npy',\n",
        "                  tokenizer_location='/content/drive/MyDrive/ColabOutputs/tokenizer.pkl',\n",
        "                  word='internet',\n",
        "                  k=5)"
      ],
      "metadata": {
        "colab": {
          "base_uri": "https://localhost:8080/"
        },
        "id": "T3hMwlXBe5xf",
        "outputId": "496a3fe9-57e5-4eab-a00a-536f09d5b4bb"
      },
      "execution_count": null,
      "outputs": [
        {
          "output_type": "stream",
          "name": "stdout",
          "text": [
            "Similar words for \"internet\":\n",
            "  annoyin: 0.4115140438079834\n",
            "  ethenic: 0.4086083769798279\n",
            "  wllingness: 0.4007369875907898\n",
            "  leceister: 0.3969919681549072\n",
            "  opewn: 0.3889625072479248\n"
          ]
        }
      ]
    },
    {
      "cell_type": "markdown",
      "source": [
        "**Results:**\n",
        "\n",
        "***\n",
        "After applying dimensionality reduction, there are few interesting words that located near each other:\n",
        "\n",
        "great & hotel\n",
        "\n",
        "clean & bathroom\n",
        "\n",
        "travel & metro\n",
        "\n",
        "good & beach\n",
        "\n",
        "room & balcony\n",
        "\n",
        "Also, the closest word to \"nasty\" is the word \"disgusting\". This words are synonyms. Seems like the model learned the similarity between both.\n",
        "\n",
        "Also the closest word to \"terrible\", is the word \"location\". This is also make some sence.\n",
        "\n",
        "***"
      ],
      "metadata": {
        "id": "D6LhzggIVjjG"
      }
    },
    {
      "cell_type": "code",
      "source": [
        "from sklearn.decomposition import PCA\n",
        "\n",
        "figure(figsize=(12, 10), dpi=80)\n",
        "\n",
        "# Get the embedding matrix\n",
        "embedding_matrix = model.get_layer('embedding').get_weights()[0]\n",
        "\n",
        "# Get the embeddings of the words we want to plot\n",
        "words_to_plot = ['hotel', 'room', 'clean', 'comfortable', 'service', 'location', 'breakfast', 'bathroom', 'casino', \n",
        "                 'restaurant', 'airport', 'suites', 'food', 'pub', 'rental', 'ticket', 'guest', 'cruise', 'bar', 'food', 'tower',\n",
        "                 'spa', 'travel', 'stay', 'beach', 'towel', 'bus', 'good', 'great', 'fine', 'quality', 'bad', 'inferior',\n",
        "                 'terrible', 'nasty', 'disgusting', 'balcony', 'laundry', 'suitcase', 'wash', 'point', 'street', 'taxi', 'metro']\n",
        "word_embeddings = [embedding_matrix[tokenizer.word_index[word]] for word in words_to_plot]\n",
        "\n",
        "# Use PCA to reduce the dimensionality of the embeddings to 2 dimensions\n",
        "pca = PCA(n_components=2)\n",
        "embeddings_2d = pca.fit_transform(word_embeddings)\n",
        "\n",
        "# Plot the embeddings in a scatter plot\n",
        "plt.scatter(embeddings_2d[:, 0], embeddings_2d[:, 1])\n",
        "for i, word in enumerate(words_to_plot):\n",
        "    plt.annotate(word, xy=(embeddings_2d[i, 0], embeddings_2d[i, 1]))\n",
        "plt.show()"
      ],
      "metadata": {
        "id": "-pxXQoL-gqHb",
        "colab": {
          "base_uri": "https://localhost:8080/",
          "height": 654
        },
        "outputId": "455bde60-b2ea-44c2-8745-21abf6f2eb8b"
      },
      "execution_count": null,
      "outputs": [
        {
          "output_type": "display_data",
          "data": {
            "text/plain": [
              "<Figure size 960x800 with 1 Axes>"
            ],
            "image/png": "[encoded data removed]"
          },
          "metadata": {
            "needs_background": "light"
          }
        }
      ]
    },
    {
      "cell_type": "code",
      "source": [],
      "metadata": {
        "id": "FOa19J5tuzNx"
      },
      "execution_count": null,
      "outputs": []
    }
  ]
}